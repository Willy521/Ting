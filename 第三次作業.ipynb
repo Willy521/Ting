{
 "cells": [
  {
   "cell_type": "code",
   "execution_count": 34,
   "metadata": {},
   "outputs": [],
   "source": [
    "%matplotlib inline\n",
    "import numpy as np\n",
    "import matplotlib.pyplot as plt\n",
    "import pandas as pd"
   ]
  },
  {
   "cell_type": "code",
   "execution_count": 74,
   "metadata": {},
   "outputs": [
    {
     "name": "stdout",
     "output_type": "stream",
     "text": [
      "大立光 單筆成交金額最高\n"
     ]
    }
   ],
   "source": [
    "df = pd.read_csv('https://quality.data.gov.tw/dq_download_csv.php?nid=11549&md5_url=bb878d47ffbe7b83bfc1b41d0b24946e')\n",
    "df.head(10000)\n",
    "df_a=np.array(df.證券名稱)\n",
    "df_b=df.成交金額\n",
    "df_c=df.成交筆數\n",
    "\n",
    "for i in range(len(df_b)):\n",
    "    df_b[i]=float(df_b[i].replace(',',''))\n",
    "    df_c[i]=float(df_c[i].replace(',',''))\n",
    "\n",
    "df_b=np.array(df_b)\n",
    "df_c=np.array(df_c)\n",
    "\n",
    "max=0\n",
    "index=0\n",
    "for i in range(len(df_a)):\n",
    "    if df_c[i]!=0:\n",
    "        if df_b[i]/df_c[i]>max:\n",
    "            max = df_b[i]/df_c[i]\n",
    "            index=i\n",
    "print(f'{df_a[index]} 單筆成交金額最高')"
   ]
  },
  {
   "cell_type": "code",
   "execution_count": null,
   "metadata": {},
   "outputs": [],
   "source": []
  }
 ],
 "metadata": {
  "kernelspec": {
   "display_name": "Python 3",
   "language": "python",
   "name": "python3"
  },
  "language_info": {
   "codemirror_mode": {
    "name": "ipython",
    "version": 3
   },
   "file_extension": ".py",
   "mimetype": "text/x-python",
   "name": "python",
   "nbconvert_exporter": "python",
   "pygments_lexer": "ipython3",
   "version": "3.6.5"
  }
 },
 "nbformat": 4,
 "nbformat_minor": 2
}
