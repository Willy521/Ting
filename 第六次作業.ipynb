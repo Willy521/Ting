{
 "cells": [
  {
   "cell_type": "markdown",
   "metadata": {},
   "source": [
    "# 找局部最小值"
   ]
  },
  {
   "cell_type": "code",
   "execution_count": 2,
   "metadata": {},
   "outputs": [],
   "source": [
    "%matplotlib inline \n",
    "import numpy as np\n",
    "import pandas as pd\n",
    "import matplotlib.pyplot as plt"
   ]
  },
  {
   "cell_type": "code",
   "execution_count": 116,
   "metadata": {},
   "outputs": [
    {
     "name": "stdout",
     "output_type": "stream",
     "text": [
      "Iteration: 0  x:  20 f(x):  124.38999999999999\n",
      "Iteration: 1  x:  18.60150126096414 f(x):  88.88060056110666\n",
      "Iteration: 2  x:  17.456980338483845 f(x):  64.89112002705815\n",
      "Iteration: 3  x:  16.502853605306882 f(x):  48.101069242316186\n",
      "Iteration: 4  x:  15.695429788611364 f(x):  36.00645696007845\n",
      "Iteration: 5  x:  15.003622643707786 f(x):  27.083380107695547\n",
      "Iteration: 6  x:  14.404650749402208 f(x):  20.366001778664042\n",
      "Iteration: 7  x:  13.881419158014978 f(x):  15.221193583961124\n",
      "Iteration: 8  x:  13.420826882584151 f(x):  11.22169693768032\n",
      "Iteration: 9  x:  13.012656318569498 f(x):  8.071928184065357\n",
      "Iteration: 10  x:  12.648813673667973 f(x):  5.562898381870127\n",
      "Iteration: 11  x:  12.322799613475581 f(x):  3.5439910092801767\n",
      "Iteration: 12  x:  12.02933196329468 f(x):  1.9048025589702462\n",
      "Iteration: 13  x:  11.764069307009777 f(x):  0.5631620490212441\n",
      "Iteration: 14  x:  11.523412745664245 f(x):  -0.5429057926026815\n",
      "Iteration: 15  x:  11.304349578058464 f(x):  -1.4607368069187388\n",
      "Iteration: 16  x:  11.104337127012514 f(x):  -2.226891279602448\n",
      "Iteration: 17  x:  10.921216408423788 f(x):  -2.8698846740046022\n",
      "Iteration: 18  x:  10.753139655907944 f(x):  -3.412173523769283\n",
      "Iteration: 19  x:  10.59851667482235 f(x):  -3.871590524931655\n",
      "Iteration: 20  x:  10.455970788616469 f(x):  -4.262408970580587\n",
      "Iteration: 21  x:  10.324305088051915 f(x):  -4.596132987631435\n",
      "Iteration: 22  x:  10.202472588407545 f(x):  -4.882100380739956\n",
      "Iteration: 23  x:  10.08955313684055 f(x):  -5.127937757599469\n",
      "Iteration: 24  x:  9.984736004089427 f(x):  -5.3399071214980935\n",
      "Iteration: 25  x:  9.887303186719691 f(x):  -5.523179574514138\n",
      "Iteration: 26  x:  9.796616262083262 f(x):  -5.68204702058577\n",
      "Iteration: 27  x:  9.712105019634691 f(x):  -5.820089117487271\n",
      "Iteration: 28  x:  9.633260710775176 f(x):  -5.940301029117975\n",
      "Iteration: 29  x:  9.559625390711517 f(x):  -6.045203193078748\n",
      "Iteration: 30  x:  9.490788010471078 f(x):  -6.136921306776365\n",
      "Iteration: 31  x:  9.426377311474425 f(x):  -6.217256465196307\n",
      "Iteration: 32  x:  9.366056851736175 f(x):  -6.287740123596592\n",
      "Iteration: 33  x:  9.30952145315132 f(x):  -6.349678020035846\n",
      "Iteration: 34  x:  9.256494714595647 f(x):  -6.404185727774795\n",
      "Iteration: 35  x:  9.206723327583859 f(x):  -6.452221505145843\n",
      "Iteration: 36  x:  9.159976720998202 f(x):  -6.494608614282356\n",
      "Iteration: 37  x:  9.11604457418889 f(x):  -6.532056256911936\n",
      "Iteration: 38  x:  9.074733619531798 f(x):  -6.565177740636777\n",
      "Iteration: 39  x:  9.03586551080025 f(x):  -6.594504877923875\n",
      "Iteration: 40  x:  8.999277888979123 f(x):  -6.620497954181758\n",
      "Iteration: 41  x:  8.964819763737069 f(x):  -6.643558268219188\n",
      "Iteration: 42  x:  8.932352934511982 f(x):  -6.6640347048730035\n",
      "Iteration: 43  x:  8.901749148340059 f(x):  -6.682232151853427\n",
      "Iteration: 44  x:  8.872890099855795 f(x):  -6.698416961818651\n",
      "Iteration: 45  x:  8.845666010206514 f(x):  -6.712822487453423\n",
      "Iteration: 46  x:  8.8199742059669 f(x):  -6.725653792004408\n",
      "Iteration: 47  x:  8.795721250767201 f(x):  -6.737090029199884\n",
      "Iteration: 48  x:  8.772819037308182 f(x):  -6.747289377359262\n",
      "Iteration: 49  x:  8.75118585317523 f(x):  -6.756390991328125\n",
      "Iteration: 50  x:  8.730745847931303 f(x):  -6.764517455181256\n"
     ]
    },
    {
     "data": {
      "image/png": "[encoded data removed]",
      "text/plain": [
       "<Figure size 432x288 with 1 Axes>"
      ]
     },
     "metadata": {},
     "output_type": "display_data"
    }
   ],
   "source": [
    "def f(x):\n",
    "    return ((x+0.5)**2)*(x-1)/25+5-0.5*x**2\n",
    "\n",
    "x=np.arange(-5,20,0.01)\n",
    "\n",
    "plt.plot(x, f(x))\n",
    "plt.xlabel('x')\n",
    "plt.ylabel('y')\n",
    "x0=20\n",
    "y=f(x0)\n",
    "lr=0.05\n",
    "step=0.000000001\n",
    "num_iteration=50\n",
    "plt.scatter(x0,f(x0),c=\"r\")\n",
    "print(\"Iteration:\", 0,\" x: \", x0, \"f(x): \", f(x0))\n",
    "for ite in range(num_iteration):\n",
    "    x1=x0-step\n",
    "    x0=x0+lr*((f(x1)-f(x0))/step)\n",
    "    plt.scatter(x0,f(x0),c=\"r\")\n",
    "    print(\"Iteration:\", ite+1,\" x: \", x0, \"f(x): \", f(x0))"
   ]
  },
  {
   "cell_type": "code",
   "execution_count": null,
   "metadata": {},
   "outputs": [],
   "source": []
  }
 ],
 "metadata": {
  "kernelspec": {
   "display_name": "Python 3",
   "language": "python",
   "name": "python3"
  },
  "language_info": {
   "codemirror_mode": {
    "name": "ipython",
    "version": 3
   },
   "file_extension": ".py",
   "mimetype": "text/x-python",
   "name": "python",
   "nbconvert_exporter": "python",
   "pygments_lexer": "ipython3",
   "version": "3.6.5"
  }
 },
 "nbformat": 4,
 "nbformat_minor": 2
}
