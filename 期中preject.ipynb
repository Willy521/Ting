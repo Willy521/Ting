{
 "cells": [
  {
   "cell_type": "markdown",
   "metadata": {},
   "source": [
    "# 有在做投資跟沒在做投資 未來資金累積差別"
   ]
  },
  {
   "cell_type": "code",
   "execution_count": 24,
   "metadata": {},
   "outputs": [],
   "source": [
    "%matplotlib inline\n",
    "import numpy as np\n",
    "import pandas as pd\n",
    "import matplotlib.pyplot as plt\n",
    "import matplotlib as mpl\n",
    "import random"
   ]
  },
  {
   "cell_type": "code",
   "execution_count": 25,
   "metadata": {},
   "outputs": [
    {
     "data": {
      "text/plain": [
       "<matplotlib.axes._subplots.AxesSubplot at 0x2cdf1b33fd0>"
      ]
     },
     "execution_count": 25,
     "metadata": {},
     "output_type": "execute_result"
    },
    {
     "data": {
      "image/png": "[encoded data removed]",
      "text/plain": [
       "<Figure size 432x288 with 1 Axes>"
      ]
     },
     "metadata": {},
     "output_type": "display_data"
    }
   ],
   "source": [
    "\n",
    "initialFund = 30 #起始資金\n",
    "salary = 4 #月薪\n",
    "rent = 1.5 #租金\n",
    "spend = 1.5 #月花費\n",
    "retire = 55 #退休年齡\n",
    "life = range(23,80,1) #工作年紀到死亡年紀\n",
    "\n",
    "y_keep = pd.Series(0,index=life)\n",
    "y_keep.iloc[0]= initialFund  \n",
    "pre=0\n",
    "\n",
    "\n",
    "for index,money in enumerate(y_keep):    \n",
    "    if index<=33:           #退休之前\n",
    "        money = round(pre+money+(salary-rent-spend)*12) #扣掉花費後今年存下的錢\n",
    "        pre=money\n",
    "        salary=salary*1.03  #每年加薪3％\n",
    "        y_keep.iloc[index] = pre\n",
    "    elif index>33:          #退休之後\n",
    "        pre = pre -(rent+spend)*12\n",
    "        y_keep.iloc[index] = pre\n",
    "        \n",
    "y_keep.plot() \n",
    "\n",
    "\n",
    "WL=['w','w','w','l','l','l','l','l','l','l']  #槓桿投資勝率30％\n",
    "WRate = list(range(80,200,10)) #賺的話報酬率在80~200％\n",
    "LRate=list(range(-1,-21,-1)) #虧損的話在-1 ~ -20％\n",
    "\n",
    "def investReturnRate(): #用隨機來選賺或賠，再用隨機來選賺多少賠多少％\n",
    "    T_year=random.choice(WL)\n",
    "    if T_year == 'w':\n",
    "        rate = random.choice(WRate)        \n",
    "    else :\n",
    "        rate = random.choice(LRate)        \n",
    "    return rate\n",
    "\n",
    "def investResult(startM,arr,ratio): #傳入起始資金·每年存錢的list，和投資部位比例\n",
    "    ret = [startM]            \n",
    "    while len(arr)>len(ret):\n",
    "        reRate = investReturnRate()  #隨機取得今年投資報酬率            \n",
    "        ret.append(ret[-1]*ratio*(reRate/100) + ret[-1]) #投資部位＊隨機報酬率＋去年的錢        \n",
    "    return pd.Series(ret,life) #回傳投資報酬\n",
    "\n",
    "invAsset = investResult(20,y_keep,0.3)\n",
    "\n",
    "\n",
    "oriAsset = y_keep\n",
    "for index,v in enumerate(y_keep):  #沒投資的list - 一筆錢＝投資的list\n",
    "    if v > 100:\n",
    "        oriAsset[index:] = y_keep[index:]-20\n",
    "        break\n",
    "\n",
    "oriAsset = oriAsset+invAsset #扣掉一筆錢的list+那筆錢得來的報酬  \n",
    "\n",
    "oriAsset.plot()       \n",
    "\n"
   ]
  }
 ],
 "metadata": {
  "kernelspec": {
   "display_name": "Python 3",
   "language": "python",
   "name": "python3"
  },
  "language_info": {
   "codemirror_mode": {
    "name": "ipython",
    "version": 3
   },
   "file_extension": ".py",
   "mimetype": "text/x-python",
   "name": "python",
   "nbconvert_exporter": "python",
   "pygments_lexer": "ipython3",
   "version": "3.6.5"
  }
 },
 "nbformat": 4,
 "nbformat_minor": 2
}
