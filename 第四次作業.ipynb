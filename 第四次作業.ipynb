{
 "cells": [
  {
   "cell_type": "code",
   "execution_count": 281,
   "metadata": {},
   "outputs": [],
   "source": [
    "%matplotlib inline\n",
    "import numpy as np\n",
    "import pandas as pd\n",
    "import matplotlib.pyplot as plt\n",
    "import matplotlib as mpl\n",
    "\n",
    "\n",
    "matplotlib.font_manager._rebuild()"
   ]
  },
  {
   "cell_type": "code",
   "execution_count": 266,
   "metadata": {},
   "outputs": [],
   "source": [
    "df=pd.read_csv('https://quality.data.gov.tw/dq_download_csv.php?nid=34827&md5_url=8da22fb395b8af2c90fa934a3921f1be')"
   ]
  },
  {
   "cell_type": "code",
   "execution_count": 248,
   "metadata": {},
   "outputs": [
    {
     "data": {
      "text/html": [
       "<div>\n",
       "<style scoped>\n",
       "    .dataframe tbody tr th:only-of-type {\n",
       "        vertical-align: middle;\n",
       "    }\n",
       "\n",
       "    .dataframe tbody tr th {\n",
       "        vertical-align: top;\n",
       "    }\n",
       "\n",
       "    .dataframe thead th {\n",
       "        text-align: right;\n",
       "    }\n",
       "</style>\n",
       "<table border=\"1\" class=\"dataframe\">\n",
       "  <thead>\n",
       "    <tr style=\"text-align: right;\">\n",
       "      <th></th>\n",
       "      <th>Site</th>\n",
       "      <th>county</th>\n",
       "      <th>PM25</th>\n",
       "      <th>DataCreationDate</th>\n",
       "      <th>ItemUnit</th>\n",
       "    </tr>\n",
       "  </thead>\n",
       "  <tbody>\n",
       "    <tr>\n",
       "      <th>0</th>\n",
       "      <td>崙背</td>\n",
       "      <td>雲林縣</td>\n",
       "      <td>30.0</td>\n",
       "      <td>2019-03-28 09:00</td>\n",
       "      <td>μg/m3</td>\n",
       "    </tr>\n",
       "    <tr>\n",
       "      <th>1</th>\n",
       "      <td>富貴角</td>\n",
       "      <td>新北市</td>\n",
       "      <td>25.0</td>\n",
       "      <td>2019-03-28 09:00</td>\n",
       "      <td>μg/m3</td>\n",
       "    </tr>\n",
       "    <tr>\n",
       "      <th>2</th>\n",
       "      <td>麥寮</td>\n",
       "      <td>雲林縣</td>\n",
       "      <td>41.0</td>\n",
       "      <td>2019-03-28 09:00</td>\n",
       "      <td>μg/m3</td>\n",
       "    </tr>\n",
       "    <tr>\n",
       "      <th>3</th>\n",
       "      <td>關山</td>\n",
       "      <td>臺東縣</td>\n",
       "      <td>21.0</td>\n",
       "      <td>2019-03-28 09:00</td>\n",
       "      <td>μg/m3</td>\n",
       "    </tr>\n",
       "    <tr>\n",
       "      <th>4</th>\n",
       "      <td>馬公</td>\n",
       "      <td>澎湖縣</td>\n",
       "      <td>27.0</td>\n",
       "      <td>2019-03-28 09:00</td>\n",
       "      <td>μg/m3</td>\n",
       "    </tr>\n",
       "  </tbody>\n",
       "</table>\n",
       "</div>"
      ],
      "text/plain": [
       "  Site county  PM25  DataCreationDate ItemUnit\n",
       "0   崙背    雲林縣  30.0  2019-03-28 09:00    μg/m3\n",
       "1  富貴角    新北市  25.0  2019-03-28 09:00    μg/m3\n",
       "2   麥寮    雲林縣  41.0  2019-03-28 09:00    μg/m3\n",
       "3   關山    臺東縣  21.0  2019-03-28 09:00    μg/m3\n",
       "4   馬公    澎湖縣  27.0  2019-03-28 09:00    μg/m3"
      ]
     },
     "execution_count": 248,
     "metadata": {},
     "output_type": "execute_result"
    }
   ],
   "source": [
    "df.head()"
   ]
  },
  {
   "cell_type": "code",
   "execution_count": 249,
   "metadata": {},
   "outputs": [],
   "source": [
    "TPpm=df[df['county']==('臺北市')]"
   ]
  },
  {
   "cell_type": "code",
   "execution_count": 250,
   "metadata": {},
   "outputs": [
    {
     "data": {
      "text/html": [
       "<div>\n",
       "<style scoped>\n",
       "    .dataframe tbody tr th:only-of-type {\n",
       "        vertical-align: middle;\n",
       "    }\n",
       "\n",
       "    .dataframe tbody tr th {\n",
       "        vertical-align: top;\n",
       "    }\n",
       "\n",
       "    .dataframe thead th {\n",
       "        text-align: right;\n",
       "    }\n",
       "</style>\n",
       "<table border=\"1\" class=\"dataframe\">\n",
       "  <thead>\n",
       "    <tr style=\"text-align: right;\">\n",
       "      <th></th>\n",
       "      <th>Site</th>\n",
       "      <th>county</th>\n",
       "      <th>PM25</th>\n",
       "      <th>DataCreationDate</th>\n",
       "      <th>ItemUnit</th>\n",
       "    </tr>\n",
       "  </thead>\n",
       "  <tbody>\n",
       "    <tr>\n",
       "      <th>15</th>\n",
       "      <td>陽明</td>\n",
       "      <td>臺北市</td>\n",
       "      <td>17.0</td>\n",
       "      <td>2019-03-28 09:00</td>\n",
       "      <td>μg/m3</td>\n",
       "    </tr>\n",
       "    <tr>\n",
       "      <th>62</th>\n",
       "      <td>大同</td>\n",
       "      <td>臺北市</td>\n",
       "      <td>29.0</td>\n",
       "      <td>2019-03-28 09:00</td>\n",
       "      <td>μg/m3</td>\n",
       "    </tr>\n",
       "    <tr>\n",
       "      <th>63</th>\n",
       "      <td>松山</td>\n",
       "      <td>臺北市</td>\n",
       "      <td>41.0</td>\n",
       "      <td>2019-03-28 09:00</td>\n",
       "      <td>μg/m3</td>\n",
       "    </tr>\n",
       "    <tr>\n",
       "      <th>64</th>\n",
       "      <td>古亭</td>\n",
       "      <td>臺北市</td>\n",
       "      <td>21.0</td>\n",
       "      <td>2019-03-28 09:00</td>\n",
       "      <td>μg/m3</td>\n",
       "    </tr>\n",
       "    <tr>\n",
       "      <th>65</th>\n",
       "      <td>萬華</td>\n",
       "      <td>臺北市</td>\n",
       "      <td>22.0</td>\n",
       "      <td>2019-03-28 09:00</td>\n",
       "      <td>μg/m3</td>\n",
       "    </tr>\n",
       "  </tbody>\n",
       "</table>\n",
       "</div>"
      ],
      "text/plain": [
       "   Site county  PM25  DataCreationDate ItemUnit\n",
       "15   陽明    臺北市  17.0  2019-03-28 09:00    μg/m3\n",
       "62   大同    臺北市  29.0  2019-03-28 09:00    μg/m3\n",
       "63   松山    臺北市  41.0  2019-03-28 09:00    μg/m3\n",
       "64   古亭    臺北市  21.0  2019-03-28 09:00    μg/m3\n",
       "65   萬華    臺北市  22.0  2019-03-28 09:00    μg/m3"
      ]
     },
     "execution_count": 250,
     "metadata": {},
     "output_type": "execute_result"
    }
   ],
   "source": [
    "TPpm.head()"
   ]
  },
  {
   "cell_type": "code",
   "execution_count": 251,
   "metadata": {},
   "outputs": [],
   "source": [
    "TPpm2 = TPpm.loc[:,'Site':'DataCreationDate'].copy()"
   ]
  },
  {
   "cell_type": "code",
   "execution_count": 252,
   "metadata": {},
   "outputs": [
    {
     "data": {
      "text/html": [
       "<div>\n",
       "<style scoped>\n",
       "    .dataframe tbody tr th:only-of-type {\n",
       "        vertical-align: middle;\n",
       "    }\n",
       "\n",
       "    .dataframe tbody tr th {\n",
       "        vertical-align: top;\n",
       "    }\n",
       "\n",
       "    .dataframe thead th {\n",
       "        text-align: right;\n",
       "    }\n",
       "</style>\n",
       "<table border=\"1\" class=\"dataframe\">\n",
       "  <thead>\n",
       "    <tr style=\"text-align: right;\">\n",
       "      <th></th>\n",
       "      <th>Site</th>\n",
       "      <th>county</th>\n",
       "      <th>PM25</th>\n",
       "      <th>DataCreationDate</th>\n",
       "    </tr>\n",
       "  </thead>\n",
       "  <tbody>\n",
       "    <tr>\n",
       "      <th>15</th>\n",
       "      <td>陽明</td>\n",
       "      <td>臺北市</td>\n",
       "      <td>17.0</td>\n",
       "      <td>2019-03-28 09:00</td>\n",
       "    </tr>\n",
       "    <tr>\n",
       "      <th>62</th>\n",
       "      <td>大同</td>\n",
       "      <td>臺北市</td>\n",
       "      <td>29.0</td>\n",
       "      <td>2019-03-28 09:00</td>\n",
       "    </tr>\n",
       "    <tr>\n",
       "      <th>63</th>\n",
       "      <td>松山</td>\n",
       "      <td>臺北市</td>\n",
       "      <td>41.0</td>\n",
       "      <td>2019-03-28 09:00</td>\n",
       "    </tr>\n",
       "    <tr>\n",
       "      <th>64</th>\n",
       "      <td>古亭</td>\n",
       "      <td>臺北市</td>\n",
       "      <td>21.0</td>\n",
       "      <td>2019-03-28 09:00</td>\n",
       "    </tr>\n",
       "    <tr>\n",
       "      <th>65</th>\n",
       "      <td>萬華</td>\n",
       "      <td>臺北市</td>\n",
       "      <td>22.0</td>\n",
       "      <td>2019-03-28 09:00</td>\n",
       "    </tr>\n",
       "  </tbody>\n",
       "</table>\n",
       "</div>"
      ],
      "text/plain": [
       "   Site county  PM25  DataCreationDate\n",
       "15   陽明    臺北市  17.0  2019-03-28 09:00\n",
       "62   大同    臺北市  29.0  2019-03-28 09:00\n",
       "63   松山    臺北市  41.0  2019-03-28 09:00\n",
       "64   古亭    臺北市  21.0  2019-03-28 09:00\n",
       "65   萬華    臺北市  22.0  2019-03-28 09:00"
      ]
     },
     "execution_count": 252,
     "metadata": {},
     "output_type": "execute_result"
    }
   ],
   "source": [
    "TPpm2.head()"
   ]
  },
  {
   "cell_type": "markdown",
   "metadata": {},
   "source": [
    "台北市的四個觀測站PM2.5指數"
   ]
  },
  {
   "cell_type": "code",
   "execution_count": 253,
   "metadata": {},
   "outputs": [],
   "source": [
    "TPpm3=TPpm2.sort_values(by = ['PM25'], ascending=False)"
   ]
  },
  {
   "cell_type": "code",
   "execution_count": 282,
   "metadata": {},
   "outputs": [
    {
     "data": {
      "text/plain": [
       "<matplotlib.axes._subplots.AxesSubplot at 0x1dad6b5bb70>"
      ]
     },
     "execution_count": 282,
     "metadata": {},
     "output_type": "execute_result"
    },
    {
     "data": {
      "image/png": "[encoded data removed]",
      "text/plain": [
       "<Figure size 432x288 with 1 Axes>"
      ]
     },
     "metadata": {},
     "output_type": "display_data"
    }
   ],
   "source": [
    "TPpm3[:5].plot.bar(x='Site', y=['PM25'])"
   ]
  },
  {
   "cell_type": "code",
   "execution_count": null,
   "metadata": {},
   "outputs": [],
   "source": []
  }
 ],
 "metadata": {
  "kernelspec": {
   "display_name": "Python 3",
   "language": "python",
   "name": "python3"
  },
  "language_info": {
   "codemirror_mode": {
    "name": "ipython",
    "version": 3
   },
   "file_extension": ".py",
   "mimetype": "text/x-python",
   "name": "python",
   "nbconvert_exporter": "python",
   "pygments_lexer": "ipython3",
   "version": "3.6.5"
  }
 },
 "nbformat": 4,
 "nbformat_minor": 2
}
