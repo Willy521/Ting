{
 "cells": [
  {
   "cell_type": "code",
   "execution_count": 1,
   "metadata": {},
   "outputs": [
    {
     "name": "stderr",
     "output_type": "stream",
     "text": [
      "C:\\Users\\user\\Anaconda3\\lib\\site-packages\\h5py\\__init__.py:36: FutureWarning: Conversion of the second argument of issubdtype from `float` to `np.floating` is deprecated. In future, it will be treated as `np.float64 == np.dtype(float).type`.\n",
      "  from ._conv import register_converters as _register_converters\n",
      "Using TensorFlow backend.\n"
     ]
    }
   ],
   "source": [
    "%matplotlib inline\n",
    "import numpy as np\n",
    "import matplotlib.pyplot as plt\n",
    "from keras.preprocessing.image import array_to_img, img_to_array, load_img\n",
    "from sklearn.datasets import load_files\n",
    "from sklearn import datasets\n",
    "from keras.applications.vgg16 import VGG16\n",
    "import os, sys\n",
    "import cv2\n",
    "from PIL import Image \n",
    "from tqdm import tqdm_notebook \n",
    "from random import shuffle \n",
    "import shutil \n",
    "import pandas as pd \n",
    "from keras.utils import np_utils\n",
    "from keras.models import Sequential\n",
    "from keras.layers.core import Flatten, Dense, Dropout, Activation\n",
    "from keras.layers.convolutional import Convolution2D, MaxPooling2D, ZeroPadding2D\n",
    "from keras.optimizers import SGD\n",
    "import cv2, numpy as np\n",
    "from PIL import Image"
   ]
  },
  {
   "cell_type": "code",
   "execution_count": 34,
   "metadata": {},
   "outputs": [],
   "source": [
    "## 不要重複執行，會覆蓋檔案\n",
    "label_name = os.listdir(r\"C:\\Users\\user\\Desktop\\NTU python\\Ting\\train\")[:]\n",
    "\n",
    "for j in label_name:\n",
    "        path = r\"C:\\Users\\user\\Desktop\\NTU python\\Ting\\train\"+'\\\\'+j\n",
    "        files = os.listdir(path)\n",
    "        n = 100\n",
    "        for i in files:\n",
    "                old = path+'\\\\'+i\n",
    "                new = path+'\\\\'+j+\"_\"+str(n)+\".jpg\"\n",
    "                os.rename(old, new)\n",
    "                n = n+1"
   ]
  },
  {
   "cell_type": "code",
   "execution_count": null,
   "metadata": {},
   "outputs": [],
   "source": []
  }
 ],
 "metadata": {
  "kernelspec": {
   "display_name": "Python 3",
   "language": "python",
   "name": "python3"
  },
  "language_info": {
   "codemirror_mode": {
    "name": "ipython",
    "version": 3
   },
   "file_extension": ".py",
   "mimetype": "text/x-python",
   "name": "python",
   "nbconvert_exporter": "python",
   "pygments_lexer": "ipython3",
   "version": "3.6.5"
  }
 },
 "nbformat": 4,
 "nbformat_minor": 2
}
