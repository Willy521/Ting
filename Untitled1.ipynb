{
 "cells": [
  {
   "cell_type": "code",
   "execution_count": 5,
   "metadata": {},
   "outputs": [],
   "source": [
    "from keras.models import Sequential\n",
    "from keras.layers.core import Flatten, Dense, Dropout\n",
    "from keras.layers.convolutional import Convolution2D, MaxPooling2D, ZeroPadding2D\n",
    "from keras.optimizers import SGD\n",
    "import cv2, numpy as np\n",
    "import os\n",
    "from PIL import Image"
   ]
  },
  {
   "cell_type": "code",
   "execution_count": 2,
   "metadata": {},
   "outputs": [
    {
     "ename": "SyntaxError",
     "evalue": "EOL while scanning string literal (<ipython-input-2-4adc0384e713>, line 5)",
     "output_type": "error",
     "traceback": [
      "\u001b[1;36m  File \u001b[1;32m\"<ipython-input-2-4adc0384e713>\"\u001b[1;36m, line \u001b[1;32m5\u001b[0m\n\u001b[1;33m    path = \"C:\\Users\\user\\Desktop\\NTU python\\Ting\"+j+r\"\\\"\u001b[0m\n\u001b[1;37m                                                         ^\u001b[0m\n\u001b[1;31mSyntaxError\u001b[0m\u001b[1;31m:\u001b[0m EOL while scanning string literal\n"
     ]
    }
   ],
   "source": [
    "## 不要重複執行，會覆蓋檔案\n",
    "label_name = os.listdir(\"C:\\Users\\user\\Desktop\\NTU python\\Ting\")[:]\n",
    "\n",
    "for j in label_name:\n",
    "        path = \"C:\\Users\\user\\Desktop\\NTU python\\Ting\"+j+\"\\\"\n",
    "        files = os.listdir(path)\n",
    "        n = 0\n",
    "        for i in files:\n",
    "                old = path+i\n",
    "                new = path+j+\"_\"+str(n)+\".jpg\"\n",
    "                os.rename(old, new)\n",
    "                n = n+1"
   ]
  },
  {
   "cell_type": "code",
   "execution_count": 13,
   "metadata": {},
   "outputs": [
    {
     "ename": "SyntaxError",
     "evalue": "invalid syntax (<ipython-input-13-b33e66b79d3f>, line 3)",
     "output_type": "error",
     "traceback": [
      "\u001b[1;36m  File \u001b[1;32m\"<ipython-input-13-b33e66b79d3f>\"\u001b[1;36m, line \u001b[1;32m3\u001b[0m\n\u001b[1;33m    def batch_rename(\"C:\\Users\\user\\Desktop\\NTU python\\Ting\"):\u001b[0m\n\u001b[1;37m                                                           ^\u001b[0m\n\u001b[1;31mSyntaxError\u001b[0m\u001b[1;31m:\u001b[0m invalid syntax\n"
     ]
    }
   ],
   "source": [
    "import os\n",
    "\n",
    "def batch_rename(\"C:\\Users\\user\\Desktop\\NTU python\\Ting\"):\n",
    "    count = 0\n",
    "    for fname in os.listdir(\"C:\\Users\\user\\Desktop\\NTU python\\Ting\"):\n",
    "        new_fname = str(count)\n",
    "        print os.path.join(path, fname)\n",
    "        os.rename(os.path.join(path, fname), os.path.join(path, new_fname))\n",
    "        count = count + 1"
   ]
  },
  {
   "cell_type": "code",
   "execution_count": null,
   "metadata": {},
   "outputs": [],
   "source": []
  }
 ],
 "metadata": {
  "kernelspec": {
   "display_name": "Python 3",
   "language": "python",
   "name": "python3"
  },
  "language_info": {
   "codemirror_mode": {
    "name": "ipython",
    "version": 3
   },
   "file_extension": ".py",
   "mimetype": "text/x-python",
   "name": "python",
   "nbconvert_exporter": "python",
   "pygments_lexer": "ipython3",
   "version": "3.6.5"
  }
 },
 "nbformat": 4,
 "nbformat_minor": 2
}
